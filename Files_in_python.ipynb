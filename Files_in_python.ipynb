{
  "nbformat": 4,
  "nbformat_minor": 0,
  "metadata": {
    "colab": {
      "provenance": [],
      "authorship_tag": "ABX9TyPO31z8kMSPh0k7ucZHftyo",
      "include_colab_link": true
    },
    "kernelspec": {
      "name": "python3",
      "display_name": "Python 3"
    },
    "language_info": {
      "name": "python"
    }
  },
  "cells": [
    {
      "cell_type": "markdown",
      "metadata": {
        "id": "view-in-github",
        "colab_type": "text"
      },
      "source": [
        "<a href=\"https://colab.research.google.com/github/MustafaAlperenYILDIRIM/Python_For_Beginners/blob/main/Files_in_python.ipynb\" target=\"_parent\"><img src=\"https://colab.research.google.com/assets/colab-badge.svg\" alt=\"Open In Colab\"/></a>"
      ]
    },
    {
      "cell_type": "markdown",
      "source": [
        "# **Working With The Files**\n",
        "\n",
        "In this code you can read a file and see what is inside. Maybe you can write too"
      ],
      "metadata": {
        "id": "I9QsdTX9zz0X"
      }
    },
    {
      "cell_type": "code",
      "source": [
        "#Read a file\n",
        "\n",
        "file = \"file.txt\"\n",
        "with open(file) as file_obj:\n",
        "  lines=file_obj.readlines()\n",
        "\n",
        "for line in lines:\n",
        "  print(line)\n",
        "\n",
        "#Appending to a file \n",
        "\n",
        "with open(file,\"a\") as file_object:\n",
        "  file_object.write(\". This is appending\")\n",
        "\n",
        "with open(file) as file_obj:\n",
        "  lines=file_obj.readlines()\n",
        "\n",
        "for line in lines:\n",
        "  print(line)"
      ],
      "metadata": {
        "colab": {
          "base_uri": "https://localhost:8080/"
        },
        "id": "BkmTP3iCzzOc",
        "outputId": "b2a32fc4-ad04-4344-a6fe-2889840e7bd5"
      },
      "execution_count": 13,
      "outputs": [
        {
          "output_type": "stream",
          "name": "stdout",
          "text": [
            "You can open a file and read the content\n",
            "You can open a file and read the content. This is appending\n"
          ]
        }
      ]
    },
    {
      "cell_type": "code",
      "execution_count": 14,
      "metadata": {
        "colab": {
          "base_uri": "https://localhost:8080/"
        },
        "id": "hwrwEGluzTA7",
        "outputId": "39356948-7f5f-414f-d626-56525af6552e"
      },
      "outputs": [
        {
          "output_type": "stream",
          "name": "stdout",
          "text": [
            "I wrote\n"
          ]
        }
      ],
      "source": [
        "#Wiritng to a file\n",
        "\n",
        "file = \"other_file.txt\"\n",
        "with open(file,\"w\") as file_obj:\n",
        "  file_obj.write(\"I wrote\")\n",
        "\n",
        "with open(file) as file_objct:\n",
        "  lines=file_objct.readlines()\n",
        "\n",
        "for line in lines:\n",
        "  print(line)"
      ]
    }
  ]
}