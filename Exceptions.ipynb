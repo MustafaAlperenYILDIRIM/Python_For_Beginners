{
  "nbformat": 4,
  "nbformat_minor": 0,
  "metadata": {
    "colab": {
      "provenance": [],
      "authorship_tag": "ABX9TyNLdW1iK6lQW1RrMABxkr22",
      "include_colab_link": true
    },
    "kernelspec": {
      "name": "python3",
      "display_name": "Python 3"
    },
    "language_info": {
      "name": "python"
    }
  },
  "cells": [
    {
      "cell_type": "markdown",
      "metadata": {
        "id": "view-in-github",
        "colab_type": "text"
      },
      "source": [
        "<a href=\"https://colab.research.google.com/github/MustafaAlperenYILDIRIM/Python_For_Beginners/blob/main/Exceptions.ipynb\" target=\"_parent\"><img src=\"https://colab.research.google.com/assets/colab-badge.svg\" alt=\"Open In Colab\"/></a>"
      ]
    },
    {
      "cell_type": "markdown",
      "source": [
        "try:\n",
        "\n",
        "\n",
        "> the situations where we can get exceptions\n",
        "\n",
        "\n",
        "except \"Exception Name\":\n",
        "\n",
        "\n",
        "> the operations in case of exceptions\n",
        "\n"
      ],
      "metadata": {
        "id": "3fEfCKaMcwHQ"
      }
    },
    {
      "cell_type": "code",
      "source": [
        "#In here we got a bug\n",
        "num1=input(\"Enter the first integer: \")\n",
        "num2=input(\"Enter the second integer: \")\n",
        "\n",
        "print(num1,\"+\",num2,\"=\",num1+num2)\n",
        "\n",
        "\n",
        "#Zero division error\n",
        "\n",
        "num3 = int(input(\"First integer: \"))\n",
        "num4 = int(input(\"Second integer: \"))\n",
        "print(num3, \"/\",num4, \"=\", num3/num4)\n",
        "\n",
        "\n"
      ],
      "metadata": {
        "id": "n_5VCFZ-dbYP"
      },
      "execution_count": null,
      "outputs": []
    },
    {
      "cell_type": "code",
      "source": [
        "#In here we got a syntax error\n",
        "\n",
        "num1=input(\"Enter the first integer: \")\n",
        "num2=input(\"Enter the second integer: \")\n",
        "\n",
        "try: \n",
        " num1_int=int(num1)\n",
        " num2_int=int(num2)\n",
        "\n",
        " print(num1,\"+\",num2,\"=\",num1+num2)\n",
        "\n",
        "except:\n",
        "  print(\"Please enter as integer\")"
      ],
      "metadata": {
        "colab": {
          "base_uri": "https://localhost:8080/"
        },
        "id": "AE_nOT3YddaR",
        "outputId": "5941c2ba-349c-41ef-c9e5-bac4882acc55"
      },
      "execution_count": 10,
      "outputs": [
        {
          "output_type": "stream",
          "name": "stdout",
          "text": [
            "Enter the first integer: 1\n",
            "Enter the second integer: a\n",
            "Please enter as integer\n"
          ]
        }
      ]
    },
    {
      "cell_type": "code",
      "source": [
        "num3 = int(input(\"First integer: \"))\n",
        "num4 = int(input(\"Second integer: \"))\n",
        "\n",
        "try:\n",
        " print(num3, \"/\",num4, \"=\", num3/num4)\n",
        "\n",
        "except ZeroDivisionError:\n",
        "  print(\"Zero Divison Error, You Can't divide\")"
      ],
      "metadata": {
        "colab": {
          "base_uri": "https://localhost:8080/"
        },
        "id": "nMAEvCKtfBsp",
        "outputId": "1f5752ae-cf03-40a0-daf6-3a8f0ecd46d4"
      },
      "execution_count": 12,
      "outputs": [
        {
          "output_type": "stream",
          "name": "stdout",
          "text": [
            "First integer: 1\n",
            "Second integer: 0\n",
            "Zero Divison Error, You Can't divide\n"
          ]
        }
      ]
    }
  ]
}