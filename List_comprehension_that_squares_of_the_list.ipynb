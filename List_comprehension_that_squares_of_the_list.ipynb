{
  "nbformat": 4,
  "nbformat_minor": 0,
  "metadata": {
    "colab": {
      "provenance": [],
      "authorship_tag": "ABX9TyNFFQUglxo22rUMhCJMwzH4",
      "include_colab_link": true
    },
    "kernelspec": {
      "name": "python3",
      "display_name": "Python 3"
    },
    "language_info": {
      "name": "python"
    }
  },
  "cells": [
    {
      "cell_type": "markdown",
      "metadata": {
        "id": "view-in-github",
        "colab_type": "text"
      },
      "source": [
        "<a href=\"https://colab.research.google.com/github/MustafaAlperenYILDIRIM/Python_For_Beginners/blob/main/List_comprehension_that_squares_of_the_list.ipynb\" target=\"_parent\"><img src=\"https://colab.research.google.com/assets/colab-badge.svg\" alt=\"Open In Colab\"/></a>"
      ]
    },
    {
      "cell_type": "markdown",
      "source": [
        "This code gets the squares of the inputs\n",
        "\n",
        "In this code you can learn examples of: [\"For Loop\", \"List\", \"List Comprehension\", \"Input\"] "
      ],
      "metadata": {
        "id": "7i2vMPsjOhsZ"
      }
    },
    {
      "cell_type": "code",
      "execution_count": 3,
      "metadata": {
        "colab": {
          "base_uri": "https://localhost:8080/"
        },
        "id": "c86mcI4QOJS0",
        "outputId": "ef47b5b8-6cee-4997-dfca-5008db0ce130"
      },
      "outputs": [
        {
          "name": "stdout",
          "output_type": "stream",
          "text": [
            "how many numbers want you to square?:3\n"
          ]
        }
      ],
      "source": [
        "i=int(input(\"how many numbers want you to square?:\"))\n",
        "i=range(i)\n",
        "numbers=[]"
      ]
    },
    {
      "cell_type": "code",
      "source": [
        "for a in i:\n",
        "    numbers.append(int(input(\"Write the {0}.number:\".format(a+1))))"
      ],
      "metadata": {
        "colab": {
          "base_uri": "https://localhost:8080/"
        },
        "id": "yFmrS5lvRmFA",
        "outputId": "2d38ecc3-1abd-4f4a-8555-d84cd6bd2949"
      },
      "execution_count": 4,
      "outputs": [
        {
          "name": "stdout",
          "output_type": "stream",
          "text": [
            "Write the 1.number:3\n",
            "Write the 2.number:4\n",
            "Write the 3.number:5\n"
          ]
        }
      ]
    },
    {
      "cell_type": "code",
      "source": [
        "squares=[x**2 for x in numbers]\n",
        "print(\"the square of the given numbers are:\" ,squares)"
      ],
      "metadata": {
        "colab": {
          "base_uri": "https://localhost:8080/"
        },
        "id": "S6VMMDJERm9g",
        "outputId": "af7b23f7-ea3a-46f1-8bec-b8a3429bb2cc"
      },
      "execution_count": 6,
      "outputs": [
        {
          "output_type": "stream",
          "name": "stdout",
          "text": [
            "the square of the given numbers are: [9, 16, 25]\n"
          ]
        }
      ]
    }
  ]
}