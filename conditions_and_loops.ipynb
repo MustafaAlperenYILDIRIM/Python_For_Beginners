{
  "nbformat": 4,
  "nbformat_minor": 0,
  "metadata": {
    "colab": {
      "provenance": [],
      "authorship_tag": "ABX9TyNrLv4nUizVND4NkbqdHh0P",
      "include_colab_link": true
    },
    "kernelspec": {
      "name": "python3",
      "display_name": "Python 3"
    },
    "language_info": {
      "name": "python"
    }
  },
  "cells": [
    {
      "cell_type": "markdown",
      "metadata": {
        "id": "view-in-github",
        "colab_type": "text"
      },
      "source": [
        "<a href=\"https://colab.research.google.com/github/MustafaAlperenYILDIRIM/Python_For_Beginners/blob/main/conditions_and_loops.ipynb\" target=\"_parent\"><img src=\"https://colab.research.google.com/assets/colab-badge.svg\" alt=\"Open In Colab\"/></a>"
      ]
    },
    {
      "cell_type": "markdown",
      "source": [
        "# **CONDITIONS & LOOPS**\n",
        "\n",
        "\n",
        "\n",
        "> * **IF STATEMENT**\n",
        "\n",
        "\n",
        "\n",
        "\n",
        "\n"
      ],
      "metadata": {
        "id": "Yt-Xk0p8KQww"
      }
    },
    {
      "cell_type": "code",
      "source": [
        "text = input(\"Can you write if : \")\n",
        "a=True\n",
        "\n",
        "if(str(text) == \"if\"):\n",
        "  print(\"Yes, you can\")\n",
        "\n",
        "elif(str(text)==\"violence\"):\n",
        "  while a==True:\n",
        "    print(\"You chose violence\")\n",
        "\n",
        "else:\n",
        "  print(\"Sorry, you can't\")"
      ],
      "metadata": {
        "colab": {
          "base_uri": "https://localhost:8080/"
        },
        "id": "ZIciBhp6KO-r",
        "outputId": "78e7d1ae-5e40-4b48-b4ed-5aec840a193a"
      },
      "execution_count": null,
      "outputs": [
        {
          "output_type": "stream",
          "name": "stdout",
          "text": [
            "Can you write if : if\n",
            "Yes, you can\n"
          ]
        }
      ]
    },
    {
      "cell_type": "markdown",
      "source": [
        "\n",
        "\n",
        "> * **FOR LOOP**\n",
        "\n"
      ],
      "metadata": {
        "id": "NGjk5wnwMYQ6"
      }
    },
    {
      "cell_type": "code",
      "source": [
        "#string loop\n",
        "for  i in \"For Loop\":\n",
        "  print(i)\n",
        "print()\n",
        "\n",
        "#basic range \n",
        "for a in range(3):\n",
        " print(a)\n",
        "print()\n",
        "\n",
        "#range(,,)\n",
        "for i in range(7,15,2): # range(start,stop,steps) if you write -1 for steps steps goes reverse\n",
        "  print(i)\n",
        "print()\n",
        "\n",
        "#enumerate(iterable, start=0)\n",
        "for key, value in enumerate(range(10)): # using unpacking techique \n",
        " print(f'key is {key} and value is {value}') # prints key and value at the same time"
      ],
      "metadata": {
        "colab": {
          "base_uri": "https://localhost:8080/"
        },
        "id": "Z-aYYry4Hoxz",
        "outputId": "df7d5d79-1b93-445f-d0c8-92aee78a8f47"
      },
      "execution_count": 12,
      "outputs": [
        {
          "output_type": "stream",
          "name": "stdout",
          "text": [
            "F\n",
            "o\n",
            "r\n",
            " \n",
            "L\n",
            "o\n",
            "o\n",
            "p\n",
            "\n",
            "0\n",
            "1\n",
            "2\n",
            "\n",
            "7\n",
            "9\n",
            "11\n",
            "13\n",
            "\n",
            "key is 0 and value is 0\n",
            "key is 1 and value is 1\n",
            "key is 2 and value is 2\n",
            "key is 3 and value is 3\n",
            "key is 4 and value is 4\n",
            "key is 5 and value is 5\n",
            "key is 6 and value is 6\n",
            "key is 7 and value is 7\n",
            "key is 8 and value is 8\n",
            "key is 9 and value is 9\n"
          ]
        }
      ]
    },
    {
      "cell_type": "markdown",
      "source": [
        "\n",
        "\n",
        "> * **WHILE LOOP**\n",
        "\n",
        "\n",
        "\n"
      ],
      "metadata": {
        "id": "q2vLu9jiMi0G"
      }
    },
    {
      "cell_type": "code",
      "source": [
        "\"\"\"while(True):\n",
        "  print(\"This is infinite loop\")\"\"\"\n",
        "\n",
        "i=0\n",
        "while(i<4):\n",
        "  print(i)\n",
        "  i+=1"
      ],
      "metadata": {
        "colab": {
          "base_uri": "https://localhost:8080/"
        },
        "id": "1SmALHV3MsOh",
        "outputId": "da842a4f-1842-4cf9-d665-232add8418bb"
      },
      "execution_count": 17,
      "outputs": [
        {
          "output_type": "stream",
          "name": "stdout",
          "text": [
            "0\n",
            "1\n",
            "2\n",
            "3\n"
          ]
        }
      ]
    }
  ]
}