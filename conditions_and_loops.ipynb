{
  "nbformat": 4,
  "nbformat_minor": 0,
  "metadata": {
    "colab": {
      "provenance": [],
      "authorship_tag": "ABX9TyO1r6ICbfvNhzdaYLgjmDvt",
      "include_colab_link": true
    },
    "kernelspec": {
      "name": "python3",
      "display_name": "Python 3"
    },
    "language_info": {
      "name": "python"
    }
  },
  "cells": [
    {
      "cell_type": "markdown",
      "metadata": {
        "id": "view-in-github",
        "colab_type": "text"
      },
      "source": [
        "<a href=\"https://colab.research.google.com/github/MustafaAlperenYILDIRIM/Python_For_Beginners/blob/main/conditions_and_loops.ipynb\" target=\"_parent\"><img src=\"https://colab.research.google.com/assets/colab-badge.svg\" alt=\"Open In Colab\"/></a>"
      ]
    },
    {
      "cell_type": "markdown",
      "source": [
        "# **CONDITIONS & LOOPS**\n",
        "\n",
        "\n",
        "\n",
        "> If Statement\n",
        "\n"
      ],
      "metadata": {
        "id": "Yt-Xk0p8KQww"
      }
    },
    {
      "cell_type": "code",
      "source": [
        "text = input(\"Can you write if : \")\n",
        "a=True\n",
        "\n",
        "if(str(text) == \"if\"):\n",
        "  print(\"Yes, you can\")\n",
        "\n",
        "elif(str(text)==\"violence\"):\n",
        "  while a==True:\n",
        "    print(\"You chose violence\")\n",
        "\n",
        "else:\n",
        "  print(\"Sorry, you can't\")"
      ],
      "metadata": {
        "colab": {
          "base_uri": "https://localhost:8080/"
        },
        "id": "ZIciBhp6KO-r",
        "outputId": "78e7d1ae-5e40-4b48-b4ed-5aec840a193a"
      },
      "execution_count": 10,
      "outputs": [
        {
          "output_type": "stream",
          "name": "stdout",
          "text": [
            "Can you write if : if\n",
            "Yes, you can\n"
          ]
        }
      ]
    },
    {
      "cell_type": "markdown",
      "source": [
        "\n",
        "\n",
        "> For Loop\n",
        "\n"
      ],
      "metadata": {
        "id": "NGjk5wnwMYQ6"
      }
    },
    {
      "cell_type": "code",
      "source": [],
      "metadata": {
        "id": "abDCQNyBMJ6K"
      },
      "execution_count": 3,
      "outputs": []
    }
  ]
}