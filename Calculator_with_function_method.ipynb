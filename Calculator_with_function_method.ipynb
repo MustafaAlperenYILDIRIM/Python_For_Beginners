{
  "nbformat": 4,
  "nbformat_minor": 0,
  "metadata": {
    "colab": {
      "provenance": [],
      "authorship_tag": "ABX9TyP7idC9qyM9DPU8/xZIYbW+",
      "include_colab_link": true
    },
    "kernelspec": {
      "name": "python3",
      "display_name": "Python 3"
    },
    "language_info": {
      "name": "python"
    }
  },
  "cells": [
    {
      "cell_type": "markdown",
      "metadata": {
        "id": "view-in-github",
        "colab_type": "text"
      },
      "source": [
        "<a href=\"https://colab.research.google.com/github/MustafaAlperenYILDIRIM/Python_For_Beginners/blob/main/Calculator_with_function_method.ipynb\" target=\"_parent\"><img src=\"https://colab.research.google.com/assets/colab-badge.svg\" alt=\"Open In Colab\"/></a>"
      ]
    },
    {
      "cell_type": "markdown",
      "source": [
        "#**FUNCTIONS**\n",
        "\n",
        "\n",
        "\n",
        "\n",
        "\n",
        "\n",
        "> In this code you can learn subjects()\n",
        "\n",
        "\n",
        "  \n",
        "```\n",
        "def subjects():\n",
        "\n",
        "  print(\"functions & basic calculator\")\n",
        "```\n",
        "\n",
        "\n",
        "\n",
        "\n",
        "\n",
        "\n",
        "\n",
        "\n",
        "\n",
        "\n"
      ],
      "metadata": {
        "id": "J-vGYDbFS6Dp"
      }
    },
    {
      "cell_type": "code",
      "execution_count": 38,
      "metadata": {
        "colab": {
          "base_uri": "https://localhost:8080/"
        },
        "id": "WXr-vHpsRnNF",
        "outputId": "2cd06c19-be47-43b1-8ef1-1b4865671d4e"
      },
      "outputs": [
        {
          "output_type": "stream",
          "name": "stdout",
          "text": [
            "This is a simple function\n"
          ]
        }
      ],
      "source": [
        "#Simple Function\n",
        "\n",
        "def function():\n",
        "  print(\"This is a simple function\")\n",
        "\n",
        "function()"
      ]
    },
    {
      "cell_type": "markdown",
      "source": [
        "#**BASIC CALCULATOR**\n",
        "\n",
        "Here is a code of how to make a basic calculator with a function\n",
        "\n"
      ],
      "metadata": {
        "id": "yJGpIubQVwi0"
      }
    },
    {
      "cell_type": "code",
      "source": [
        "def calculator(action):\n",
        "  if action==1:\n",
        "    first_number=int(input(\"Write The First Number:\"))\n",
        "    second_number=int(input(\"Write The Second Number:\"))\n",
        "    equals=first_number+second_number\n",
        "    print(\"{0} + {1} =\" .format(first_number,second_number),equals)\n",
        "  \n",
        "  if action==2:\n",
        "    first_number=int(input(\"Write The First Number:\"))\n",
        "    second_number=int(input(\"Write The Second Number:\"))\n",
        "    equals=first_number-second_number\n",
        "    print(\"{0} - {1} =\" .format(first_number,second_number),equals)\n",
        "\n",
        "  if action==3:\n",
        "    first_number=int(input(\"Write The First Number:\"))\n",
        "    second_number=int(input(\"Write The Second Number:\"))\n",
        "    equals=first_number/second_number\n",
        "    print(\"{0} / {1} =\" .format(first_number,second_number),round(equals,2))\n",
        "\n",
        "  if action==4:\n",
        "    first_number=int(input(\"Write The First Number:\"))\n",
        "    second_number=int(input(\"Write The Second Number:\"))\n",
        "    equals=first_number*second_number\n",
        "    print(\"{0} x {1} =\" .format(first_number,second_number),equals)\n",
        "\n",
        "\n",
        "action=int(input(\"\"\"Please type the number of the action you want to do:\n",
        "1.Addition\n",
        "2.Subtraction\n",
        "3.Divison\n",
        "4.Multiplication\n",
        "\"\"\"))\n",
        "\n",
        "calculator(action)\n"
      ],
      "metadata": {
        "colab": {
          "base_uri": "https://localhost:8080/"
        },
        "id": "LTsQGeR-VvPE",
        "outputId": "9149a0bb-fdad-4f97-8df7-339ae13ae56f"
      },
      "execution_count": 39,
      "outputs": [
        {
          "output_type": "stream",
          "name": "stdout",
          "text": [
            "Please type the number of the action you want to do:\n",
            "1.Addition\n",
            "2.Subtraction\n",
            "3.Divison\n",
            "4.Multiplication\n",
            "3\n",
            "Write The First Number:27\n",
            "Write The Second Number:4\n",
            "27 / 4 = 6.75\n"
          ]
        }
      ]
    }
  ]
}